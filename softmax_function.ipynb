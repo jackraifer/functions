{
 "cells": [
  {
   "cell_type": "markdown",
   "id": "51722cd8-d30a-4a96-987f-bf1a094d0dfc",
   "metadata": {},
   "source": [
    "Here is a simple softmax function. This function takes as input a list of numbers, and returns the list of values given by the softmax function."
   ]
  },
  {
   "cell_type": "code",
   "execution_count": 4,
   "id": "aaaa3bf3-0255-4fad-a934-5c16a8c8173f",
   "metadata": {},
   "outputs": [],
   "source": [
    "# Import Numpy\n",
    "import numpy as np"
   ]
  },
  {
   "cell_type": "code",
   "execution_count": 5,
   "id": "8f3d6351-8e34-4d76-b2f1-11b8dd58815f",
   "metadata": {},
   "outputs": [],
   "source": [
    "# Softmax Function\n",
    "def softmax(L):\n",
    "    expL = np.exp(L) # transform L into a list of exponentials\n",
    "    sumExpL = sum(expL) # sum the exponentials\n",
    "    return [x * 1.0 / sumExpL for x in expL] #return list of results given by the softmax function"
   ]
  },
  {
   "cell_type": "markdown",
   "id": "cd1b521d-0369-417f-8e6d-fcacb88a9703",
   "metadata": {},
   "source": [
    "It is always important to test your functions to see what exactly they do.<br>\n",
    "Test 1"
   ]
  },
  {
   "cell_type": "code",
   "execution_count": 6,
   "id": "15ec4939-3801-464c-8653-520d46e89269",
   "metadata": {},
   "outputs": [
    {
     "data": {
      "text/plain": [
       "[1, 2, 3, 4, 5, 6, 7, 8, 9, 10]"
      ]
     },
     "execution_count": 6,
     "metadata": {},
     "output_type": "execute_result"
    }
   ],
   "source": [
    "test_list_1 = [x+1 for x in range(10)]\n",
    "test_list_1"
   ]
  },
  {
   "cell_type": "code",
   "execution_count": 7,
   "id": "a9e6fc8f-f2e6-443b-b27a-1d746b2b2ee5",
   "metadata": {},
   "outputs": [
    {
     "data": {
      "text/plain": [
       "[7.801341612780742e-05,\n",
       " 0.00021206245143623275,\n",
       " 0.0005764455082375902,\n",
       " 0.0015669413501390804,\n",
       " 0.004259388198344144,\n",
       " 0.0115782175399118,\n",
       " 0.031472858344688034,\n",
       " 0.08555209892803112,\n",
       " 0.23255471590259755,\n",
       " 0.6321492583604866]"
      ]
     },
     "execution_count": 7,
     "metadata": {},
     "output_type": "execute_result"
    }
   ],
   "source": [
    "softmax(test_list_1)"
   ]
  },
  {
   "cell_type": "markdown",
   "id": "148eea2b-c9e6-4a6b-bc72-5f8a647b5fb5",
   "metadata": {},
   "source": [
    "To make sure it is working, we can sum up tyhe results and it should add to 1"
   ]
  },
  {
   "cell_type": "code",
   "execution_count": 8,
   "id": "5bf6703d-0140-4a10-81d2-249b8c41bd58",
   "metadata": {},
   "outputs": [
    {
     "data": {
      "text/plain": [
       "1.0"
      ]
     },
     "execution_count": 8,
     "metadata": {},
     "output_type": "execute_result"
    }
   ],
   "source": [
    "test1 = sum(softmax(test_list_1))\n",
    "test1"
   ]
  },
  {
   "cell_type": "markdown",
   "id": "b24049c8-b0f7-47a3-8247-36fd3c0efa76",
   "metadata": {},
   "source": [
    "It should also work with any other list for any size.<br>\n",
    "Test 2"
   ]
  },
  {
   "cell_type": "code",
   "execution_count": 13,
   "id": "207d3117-e919-4aaa-9810-8e7addbb5235",
   "metadata": {},
   "outputs": [
    {
     "data": {
      "text/plain": [
       "[0.67, 4.78, 22.0]"
      ]
     },
     "execution_count": 13,
     "metadata": {},
     "output_type": "execute_result"
    }
   ],
   "source": [
    "test_list_2 = [0.67, 4.78, 22.0]\n",
    "test_list_2"
   ]
  },
  {
   "cell_type": "code",
   "execution_count": 14,
   "id": "3fb69a6a-6a45-4237-ab90-93ee0a5e52fc",
   "metadata": {},
   "outputs": [
    {
     "data": {
      "text/plain": [
       "[5.451282467723762e-10, 3.3223777295259346e-08, 0.9999999662310944]"
      ]
     },
     "execution_count": 14,
     "metadata": {},
     "output_type": "execute_result"
    }
   ],
   "source": [
    "softmax(test_list_2)"
   ]
  },
  {
   "cell_type": "code",
   "execution_count": 15,
   "id": "208a28c5-7b00-4eb5-904b-19702fa0ce89",
   "metadata": {},
   "outputs": [
    {
     "data": {
      "text/plain": [
       "1.0"
      ]
     },
     "execution_count": 15,
     "metadata": {},
     "output_type": "execute_result"
    }
   ],
   "source": [
    "test2 = sum(softmax(test_list_2))\n",
    "test2"
   ]
  }
 ],
 "metadata": {
  "kernelspec": {
   "display_name": "Python 3",
   "language": "python",
   "name": "python3"
  },
  "language_info": {
   "codemirror_mode": {
    "name": "ipython",
    "version": 3
   },
   "file_extension": ".py",
   "mimetype": "text/x-python",
   "name": "python",
   "nbconvert_exporter": "python",
   "pygments_lexer": "ipython3",
   "version": "3.8.8"
  }
 },
 "nbformat": 4,
 "nbformat_minor": 5
}
