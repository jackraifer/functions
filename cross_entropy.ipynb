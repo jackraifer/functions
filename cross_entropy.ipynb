{
 "cells": [
  {
   "cell_type": "markdown",
   "id": "eeed6c48-2d17-45ab-9c3b-ce4e6b03db6c",
   "metadata": {},
   "source": [
    "Cross Enthropy Function"
   ]
  },
  {
   "cell_type": "code",
   "execution_count": 1,
   "id": "795bd134-d02e-4009-a96e-07303152a539",
   "metadata": {},
   "outputs": [],
   "source": [
    "# Make sure you import the numpy library\n",
    "import numpy as np"
   ]
  },
  {
   "cell_type": "markdown",
   "id": "f3fbe654-c482-449b-aaa2-d90f4d3baf10",
   "metadata": {},
   "source": [
    "To calculate Cross Entrhopy, we take two lists: Y, the list with a binary representation of the actual result (1 for yes and 0 for now) and a list of the actual probabilities of each result.<br>\n",
    "Then we use the Cross Enthropy formula which is the sum of (the actual results times the log of the probability plus (one minus the actual result) times the log of probability of the alternate hypothesis.<br>"
   ]
  },
  {
   "cell_type": "code",
   "execution_count": 7,
   "id": "93912b8d-4eb4-4745-8d8b-4f7b2513cfbe",
   "metadata": {},
   "outputs": [],
   "source": [
    "def cross_entropy(Y, P):\n",
    "    Y = np.float_(Y) #Make sure you use the float_ (float underscore) command.\n",
    "    P = np.float_(P)\n",
    "    return -np.sum(Y * np.log(P) + (1 - Y) * np.log(1 - P))"
   ]
  },
  {
   "cell_type": "markdown",
   "id": "c33bb7e4-3093-4a6d-b1e4-6c3dfd99e999",
   "metadata": {},
   "source": [
    "Making sure the function works"
   ]
  },
  {
   "cell_type": "code",
   "execution_count": 8,
   "id": "83cc07ac-508a-4f90-b98e-18d4921249b2",
   "metadata": {},
   "outputs": [
    {
     "data": {
      "text/plain": [
       "[1, 0, 1, 1]"
      ]
     },
     "execution_count": 8,
     "metadata": {},
     "output_type": "execute_result"
    }
   ],
   "source": [
    "Y1 = [1,0,1,1]\n",
    "Y1"
   ]
  },
  {
   "cell_type": "code",
   "execution_count": 9,
   "id": "20ac0313-4ea8-4987-b14d-4c5112c859d0",
   "metadata": {},
   "outputs": [
    {
     "data": {
      "text/plain": [
       "[0.4, 0.6, 0.1, 0.5]"
      ]
     },
     "execution_count": 9,
     "metadata": {},
     "output_type": "execute_result"
    }
   ],
   "source": [
    "P1 = [0.4,0.6,0.1,0.5]\n",
    "P1"
   ]
  },
  {
   "cell_type": "code",
   "execution_count": 10,
   "id": "700261cf-1bc5-47bf-97e8-7ede057c9abd",
   "metadata": {},
   "outputs": [
    {
     "name": "stdout",
     "output_type": "stream",
     "text": [
      "4.828313737302301\n"
     ]
    }
   ],
   "source": [
    "test1 = cross_entropy(Y1, P1)\n",
    "print(test1)"
   ]
  },
  {
   "cell_type": "markdown",
   "id": "d977e074-98db-4534-857e-6344a828c202",
   "metadata": {},
   "source": [
    "Let's try with a list where the probabilities and the actual results mach closely (we should get low cross entropy)"
   ]
  },
  {
   "cell_type": "code",
   "execution_count": 12,
   "id": "de93014b-4bc5-472d-851e-f8679ae7c84b",
   "metadata": {},
   "outputs": [
    {
     "data": {
      "text/plain": [
       "[1, 0, 1, 0]"
      ]
     },
     "execution_count": 12,
     "metadata": {},
     "output_type": "execute_result"
    }
   ],
   "source": [
    "Y2 = [1,0,1,0]\n",
    "Y2"
   ]
  },
  {
   "cell_type": "code",
   "execution_count": 13,
   "id": "b60fda6f-f3e4-43ea-958e-c6978fe4dfac",
   "metadata": {},
   "outputs": [
    {
     "data": {
      "text/plain": [
       "[0.9, 0.1, 0.8, 0.2]"
      ]
     },
     "execution_count": 13,
     "metadata": {},
     "output_type": "execute_result"
    }
   ],
   "source": [
    "P2 = [0.9,0.1,0.8,0.2]\n",
    "P2"
   ]
  },
  {
   "cell_type": "code",
   "execution_count": 14,
   "id": "df33ab73-9e0c-459d-9c2c-dce1bdb9e180",
   "metadata": {},
   "outputs": [
    {
     "data": {
      "text/plain": [
       "0.657008133944072"
      ]
     },
     "execution_count": 14,
     "metadata": {},
     "output_type": "execute_result"
    }
   ],
   "source": [
    "test2 = cross_entropy(Y2, P2)\n",
    "test2"
   ]
  },
  {
   "cell_type": "markdown",
   "id": "0fb7319a-6f5e-401c-b78a-ea0ab1be04b6",
   "metadata": {},
   "source": [
    "As you can see, our cross entropy is VERY low, meaning the function seems to be working fine."
   ]
  },
  {
   "cell_type": "code",
   "execution_count": null,
   "id": "0eae5f7e-0450-4a28-aefe-8cd99d8437e6",
   "metadata": {},
   "outputs": [],
   "source": []
  }
 ],
 "metadata": {
  "kernelspec": {
   "display_name": "Python 3",
   "language": "python",
   "name": "python3"
  },
  "language_info": {
   "codemirror_mode": {
    "name": "ipython",
    "version": 3
   },
   "file_extension": ".py",
   "mimetype": "text/x-python",
   "name": "python",
   "nbconvert_exporter": "python",
   "pygments_lexer": "ipython3",
   "version": "3.8.8"
  }
 },
 "nbformat": 4,
 "nbformat_minor": 5
}
